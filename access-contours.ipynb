{
 "cells": [
  {
   "cell_type": "markdown",
   "metadata": {},
   "source": [
    "# Access contours\n",
    "\n",
    "Extract contours of access from a Conveyal regional analysis\n",
    "\n",
    "Input: regional analysis, [downloaded as a geotiff](https://docs.conveyal.com/analysis/regional#downloading-regional-results) and saved to the `data` directory\n",
    "\n",
    "Output: filled contours (.geojson multipolygons) corresponding to the intervals in `accessBins`. If discrete points (a \"freeform\" spatial dataset) are used as the destination in the Conveyal regional analysis, the contour containing the locations that can access at least one destination can be considered a combined catchment area or a composite \"reverse\" isochrone, of inbound access to destinations (as opposed to outward access an origin)."
   ]
  },
  {
   "cell_type": "code",
   "execution_count": 1,
   "metadata": {},
   "outputs": [],
   "source": [
    "import numpy\n",
    "import json\n",
    "import matplotlib.pyplot as plt\n",
    "from shapely.geometry import shape, MultiPolygon\n",
    "import shapely_geojson\n",
    "import geojsoncontour\n",
    "import geojson\n",
    "import rasterio\n",
    "\n",
    "\n",
    "accessBins = [1, 1000]\n",
    "inputLayers = [\n",
    "    {\n",
    "        'id': '60372f300554eb553d2be04b_603723df0554eb553d2be042',\n",
    "        'percentile': 25,\n",
    "        'cutoff': 45\n",
    "    },\n",
    "    {\n",
    "        'id': '60372f300554eb553d2be04b_603723df0554eb553d2be042',\n",
    "        'percentile': 25,\n",
    "        'cutoff': 60\n",
    "    },\n",
    "    {\n",
    "        'id': '60372f300554eb553d2be04b_603723df0554eb553d2be042',\n",
    "        'percentile': 25,\n",
    "        'cutoff': 90\n",
    "    }\n",
    "]"
   ]
  },
  {
   "cell_type": "code",
   "execution_count": 2,
   "metadata": {},
   "outputs": [
    {
     "data": {
      "image/png": "[encoded data removed]",
      "text/plain": [
       "<Figure size 432x288 with 1 Axes>"
      ]
     },
     "metadata": {
      "needs_background": "light"
     },
     "output_type": "display_data"
    },
    {
     "data": {
      "image/png": "[encoded data removed]",
      "text/plain": [
       "<Figure size 432x288 with 1 Axes>"
      ]
     },
     "metadata": {
      "needs_background": "light"
     },
     "output_type": "display_data"
    },
    {
     "data": {
      "image/png": "[encoded data removed]",
      "text/plain": [
       "<Figure size 432x288 with 1 Axes>"
      ]
     },
     "metadata": {
      "needs_background": "light"
     },
     "output_type": "display_data"
    }
   ],
   "source": [
    "for layer in inputLayers:\n",
    "    tiff = rasterio.open('data/' + layer['id'] + '_P' + str(layer['percentile']) + '_C' + str(layer['cutoff']) + '.tiff')\n",
    "    crsEpsg = tiff.crs.to_string()\n",
    "\n",
    "    # Set up tiff processing        \n",
    "    latRange = numpy.arange(tiff.bounds.top, tiff.bounds.bottom, -tiff.res[1])\n",
    "    lonRange = numpy.arange(tiff.bounds.left, tiff.bounds.right, tiff.res[0])\n",
    "\n",
    "    combinedGeojson = {\n",
    "        'crs': {'type':'name','properties':{'name': crsEpsg}},\n",
    "        'type': 'FeatureCollection',\n",
    "        'features': []\n",
    "    }    \n",
    "\n",
    "    figure = plt.figure().add_subplot(111)\n",
    "    values =  tiff.read(1)\n",
    "    contourf = figure.contourf(lonRange, latRange, values, levels = accessBins)\n",
    "    contourJson = geojson.loads(geojsoncontour.contourf_to_geojson(contourf = contourf, ndigits = 3))\n",
    "\n",
    "    for i in range(len(contourJson['features'])):\n",
    "        feature = contourJson.features[i]\n",
    "        minReachable = list(accessBins)[i]\n",
    "        \n",
    "        # Replace default properties from matplotlib contourf\n",
    "        feature.properties = {\n",
    "            'minReachable': minReachable,\n",
    "        }\n",
    "        \n",
    "\n",
    "        # The next two steps remove shapes with no coordinates, zero-area artifacts, \n",
    "        # and self-intersections\n",
    "        nextContour = shape({\n",
    "            'type': 'MultiPolygon', \n",
    "            'coordinates': list(filter(\n",
    "                lambda coords: (len(coords) > 0), \n",
    "                feature.geometry.coordinates))\n",
    "        })\n",
    "        \n",
    "        nextContour = MultiPolygon(list(filter(lambda poly: (poly.area > 0), nextContour))).buffer(0)\n",
    "\n",
    "        # countourf returns the area between the requested intervals (e.g. a bandreachable in \n",
    "        # between 15 and 30 minutes). Union this band with the previous ones to show the cumulative\n",
    "        # area reachable.\n",
    "        if i > 0:\n",
    "            nextContour = nextContour.union(shape(isochroneJson['features'][i - 1]['geometry']))\n",
    "\n",
    "        feature.geometry = json.loads(shapely_geojson.dumps(nextContour))\n",
    "        combinedGeojson['features'].append(feature)\n",
    "        \n",
    "    with open('data/' + layer['id'] + '_P' + str(layer['percentile']) + '_C' + str(layer['cutoff']) + '.geojson', 'w') as f:\n",
    "        json.dump(combinedGeojson, f)\n",
    "    f.close()"
   ]
  }
 ],
 "metadata": {
  "kernelspec": {
   "display_name": "Python 3",
   "language": "python",
   "name": "python3"
  },
  "language_info": {
   "codemirror_mode": {
    "name": "ipython",
    "version": 3
   },
   "file_extension": ".py",
   "mimetype": "text/x-python",
   "name": "python",
   "nbconvert_exporter": "python",
   "pygments_lexer": "ipython3",
   "version": "3.8.8"
  }
 },
 "nbformat": 4,
 "nbformat_minor": 4
}
