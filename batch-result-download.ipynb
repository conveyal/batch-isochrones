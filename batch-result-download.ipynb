{
 "cells": [
  {
   "cell_type": "markdown",
   "metadata": {},
   "source": [
    "# Batch Result Download\n",
    "Download a batch of Conveyal regional analysis results. This script was streamlined in April 2024 with the v7.2 Conveyal / R5 release.\n",
    "\n",
    "Setup requires:\n",
    " - Completed regional analysis results, viewable in the Conveyal user interface\n",
    " - JSON with array values for the key `analysisIds` saved to `config/regionalAnalysisParameters.json`. The values in the array can be derived from the URL of regional analysis results pages in the Conveyal user interface: `https://analysis.conveyal.com/regions/[regionId]/regional/[analysisId]`\n",
    " - A current Conveyal token (e.g. 'bearer 1234abcd...') saved at `config/.auth`, based on the `idToken` shown at https://analysis.conveyal.com/session (for logged in users).\n",
    "\n",
    "After the setup cell in this notebook, the remaining cell: \n",
    " - Downloads a .zip file with all combinations of analyses, cutoffs, destination pointsets, and percentiles"
   ]
  },
  {
   "cell_type": "markdown",
   "metadata": {},
   "source": [
    "## Setup"
   ]
  },
  {
   "cell_type": "code",
   "execution_count": null,
   "metadata": {},
   "outputs": [],
   "source": [
    "import requests\n",
    "import json\n",
    "import urllib\n",
    "import os\n",
    "import time\n",
    "\n",
    "config = json.load(open('config/regionalAnalysisParameters.json'))\n",
    "\n",
    "# Authorization header with idToken copied from https://analysis.conveyal.com/session\n",
    "token = open('config/.auth').readline().strip()\n",
    "headers = {\n",
    "    'Authorization': token\n",
    "}\n",
    "baseUrl = 'https://api.conveyal.com/api/regional/'"
   ]
  },
  {
   "cell_type": "markdown",
   "metadata": {},
   "source": [
    "## Download regional analysis result geotiff files\n",
    "For all analysis, cutoff, percentile, and destination combinations"
   ]
  },
  {
   "cell_type": "code",
   "execution_count": null,
   "metadata": {},
   "outputs": [],
   "source": [
    "# Loop over analysis ids\n",
    "for analysisId in config['analysisIds']:\n",
    "    \n",
    "    print('Processing ' + analysisId)\n",
    "    status = 202;\n",
    "    \n",
    "    while (status == 202):\n",
    "        resultUrl = baseUrl + analysisId + '/all'\n",
    "        # Request a signed S3 url from the Conveyal API\n",
    "        r = requests.get(resultUrl, headers = headers, verify = False)\n",
    "        if r.status_code == 403:\n",
    "            print('Unauthorized access. Your authorization token may be invalid or expired.')\n",
    "            \n",
    "        elif r.status_code == 404:\n",
    "            print('Results not found. Check your analysisId values')\n",
    "        \n",
    "        elif r.status_code == 202:\n",
    "            print(r.text + ' Retrying in 15 seconds.')\n",
    "            time.sleep(15)\n",
    "        \n",
    "        elif (r.status_code != 200):\n",
    "            print('Error: ' + r.text)\n",
    "        \n",
    "        status = r.status_code\n",
    "            \n",
    "    if (status == 200):\n",
    "        zipRequest = requests.get(r.json()['url'], verify = False)\n",
    "\n",
    "        # Save result to a local .zip file\n",
    "        with open('results/'  + analysisId + '.zip', 'wb') as f:\n",
    "            for chunk in zipRequest.iter_content(chunk_size=128):\n",
    "                f.write(chunk)\n",
    "            f.close()"
   ]
  }
 ],
 "metadata": {
  "kernelspec": {
   "display_name": "Python 3",
   "language": "python",
   "name": "python3"
  },
  "language_info": {
   "codemirror_mode": {
    "name": "ipython",
    "version": 3
   },
   "file_extension": ".py",
   "mimetype": "text/x-python",
   "name": "python",
   "nbconvert_exporter": "python",
   "pygments_lexer": "ipython3",
   "version": "3.7.10"
  },
  "toc": {
   "base_numbering": 1,
   "nav_menu": {},
   "number_sections": true,
   "sideBar": true,
   "skip_h1_title": false,
   "title_cell": "Table of Contents",
   "title_sidebar": "Contents",
   "toc_cell": false,
   "toc_position": {},
   "toc_section_display": true,
   "toc_window_display": false
  },
  "varInspector": {
   "cols": {
    "lenName": 16,
    "lenType": 16,
    "lenVar": 40
   },
   "kernels_config": {
    "python": {
     "delete_cmd_postfix": "",
     "delete_cmd_prefix": "del ",
     "library": "var_list.py",
     "varRefreshCmd": "print(var_dic_list())"
    },
    "r": {
     "delete_cmd_postfix": ") ",
     "delete_cmd_prefix": "rm(",
     "library": "var_list.r",
     "varRefreshCmd": "cat(var_dic_list()) "
    }
   },
   "types_to_exclude": [
    "module",
    "function",
    "builtin_function_or_method",
    "instance",
    "_Feature"
   ],
   "window_display": false
  }
 },
 "nbformat": 4,
 "nbformat_minor": 4
}
