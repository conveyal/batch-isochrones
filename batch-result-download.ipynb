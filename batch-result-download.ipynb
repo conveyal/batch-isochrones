{
 "cells": [
  {
   "cell_type": "markdown",
   "metadata": {},
   "source": [
    "# Batch Result Download\n",
    "Download a batch of Conveyal regional analysis results\n",
    "\n",
    "Setup requires:\n",
    " - Completed regional analysis results, viewable in the Conveyal user interface\n",
    " - JSON with array values for the keys `analysisIds`, `cutoffs`, `pointSetId`, and `percentile`, plus the `regionId` saved to `config/regionalAnalysisParameters.json`. The values in the arrays can be derived from the URL of a regional analysis results page in the Conveyal user interface: `https://analysis.conveyal.com/regions/[regionId]/regional/[analysisId]?cutoff=[cutoff]&pointSetId=[pointSetId]&percentile=[percentile]`\n",
    " - A current Conveyal token (e.g. 'bearer 1234abcd...') saved at `config/.auth`, based on the `idToken` shown at https://analysis.conveyal.com/session (for logged in users).\n",
    " - Optionally, a session cookie copied from browser DevTools saved at `config/.cookie`\n",
    "\n",
    "After the setup cell in this notebook, there are cells to: \n",
    " - Optionally, fetch the names of regional analyses and destination pointset layers\n",
    " - Download all combinations of analyses, cutoffs, destination pointsets, and percentiles"
   ]
  },
  {
   "cell_type": "markdown",
   "metadata": {},
   "source": [
    "## Setup"
   ]
  },
  {
   "cell_type": "code",
   "execution_count": null,
   "metadata": {},
   "outputs": [],
   "source": [
    "import requests\n",
    "import json\n",
    "import urllib\n",
    "import os\n",
    "\n",
    "config = json.load(open('config/regionalAnalysisParameters.json'))\n",
    "\n",
    "# Authorization header copied from DevTools Network request or https://analysis.conveyal.com/session\n",
    "token = open('config/.auth').readline().strip()\n",
    "headers = {\n",
    "    'Authorization': token\n",
    "}\n",
    "resultUrl = 'https://api.conveyal.com/api/regional/'\n",
    "\n",
    "namesFetched = False;\n",
    "\n",
    "# Cookie copied from browser Devtools Network request header\n",
    "cookie = open('config/.cookie').readline().strip()\n",
    "dbHeaders = {\n",
    "    'Cookie': cookie\n",
    "}\n",
    "dbUrl = 'https://analysis.conveyal.com/api/db/'"
   ]
  },
  {
   "cell_type": "markdown",
   "metadata": {},
   "source": [
    "## Fetch names\n",
    "Optional, requires saved cookie"
   ]
  },
  {
   "cell_type": "code",
   "execution_count": null,
   "metadata": {},
   "outputs": [],
   "source": [
    "analysesRequest = requests.get(dbUrl + 'regional-analyses?options=' + urllib.parse.urlencode({\"projection\":{\"request.scenario.modifications\":0}}), headers = dbHeaders)\n",
    "analyses = analysesRequest.json()\n",
    "\n",
    "opportunitiesRequest = requests.get(dbUrl + 'opportunityDatasets?', headers = dbHeaders)\n",
    "opportunities = opportunitiesRequest.json()\n",
    "destinations = {}\n",
    "\n",
    "for destinationPointSetId in config['pointSetIds']:\n",
    "    destinationPointSetName = list(filter(lambda x:x[\"_id\"] == destinationPointSetId, opportunities))[0]['name']\n",
    "    destinations[destinationPointSetId] = destinationPointSetName\n",
    "    if not os.path.exists('results/To ' + destinationPointSetName):\n",
    "        os.makedirs('results/To ' + destinationPointSetName)\n",
    "\n",
    "namesFetched = True;"
   ]
  },
  {
   "cell_type": "markdown",
   "metadata": {},
   "source": [
    "## Download regional analysis result geotiff files\n",
    "For all analysis, cutoff, percentile, and destination combinations"
   ]
  },
  {
   "cell_type": "code",
   "execution_count": null,
   "metadata": {},
   "outputs": [],
   "source": [
    "# Loop over analysis ids\n",
    "for analysisId in config['analysisIds']:\n",
    "    \n",
    "    analysisName = analysisId\n",
    "    if namesFetched:\n",
    "        analysisProperties = list(filter(lambda x:x['_id']==analysisId, analyses))[0]\n",
    "        with open('results/' + analysisId + '.json', 'w') as f:\n",
    "            json.dump(analysisProperties, f)\n",
    "        analysisName = analysisProperties['name']\n",
    "    print('Processing ' + analysisName)\n",
    "    \n",
    "    # Loop over cutoffs, percentiles, and destination opportunity pointsets\n",
    "    for cutoff in config['cutoffs']:\n",
    "        for percentile in config['percentiles']:\n",
    "            for destinationPointSetId in config['pointSetIds']:\n",
    "                \n",
    "                destinationPointSetName = destinationPointSetId\n",
    "                if namesFetched:\n",
    "                    destinationPointSetName = destinations[destinationPointSetId]\n",
    "                \n",
    "                gridQuery = urllib.parse.urlencode({'cutoff': cutoff, 'percentile': percentile, 'destinationPointSetId': destinationPointSetId})\n",
    "                gridUrl = resultUrl + analysisId + '/grid/geotiff?' + gridQuery\n",
    "                \n",
    "                # Request a signed S3 url from the Conveyal API\n",
    "                r = requests.get(gridUrl, headers = headers, verify = False)\n",
    "    \n",
    "                if r.status_code == 403:\n",
    "                    print('Unauthorized access. Your authorization token may be invalid or expired.')\n",
    "        \n",
    "                elif r.status_code != 200:\n",
    "                    print('Error: ' + r.text)\n",
    "        \n",
    "                else:\n",
    "                    # From the signed S3 url, fetch the grid as a geotiff\n",
    "                    grid = requests.get(r.json()['url'], verify = False)\n",
    "                    # Save response from Conveyal Analysis to a local .geotiff file\n",
    "                    with open('results/To ' + destinationPointSetName + '/' + ('-').join((analysisId, str(cutoff) + 'min', str(percentile) + 'pct')) + '.geotiff', 'wb') as f:\n",
    "                        for chunk in grid.iter_content(chunk_size=128):\n",
    "                            f.write(chunk)\n",
    "                        f.close()"
   ]
  }
 ],
 "metadata": {
  "kernelspec": {
   "display_name": "Python 3",
   "language": "python",
   "name": "python3"
  },
  "language_info": {
   "codemirror_mode": {
    "name": "ipython",
    "version": 3
   },
   "file_extension": ".py",
   "mimetype": "text/x-python",
   "name": "python",
   "nbconvert_exporter": "python",
   "pygments_lexer": "ipython3",
   "version": "3.7.10"
  },
  "toc": {
   "base_numbering": 1,
   "nav_menu": {},
   "number_sections": true,
   "sideBar": true,
   "skip_h1_title": false,
   "title_cell": "Table of Contents",
   "title_sidebar": "Contents",
   "toc_cell": false,
   "toc_position": {},
   "toc_section_display": true,
   "toc_window_display": false
  },
  "varInspector": {
   "cols": {
    "lenName": 16,
    "lenType": 16,
    "lenVar": 40
   },
   "kernels_config": {
    "python": {
     "delete_cmd_postfix": "",
     "delete_cmd_prefix": "del ",
     "library": "var_list.py",
     "varRefreshCmd": "print(var_dic_list())"
    },
    "r": {
     "delete_cmd_postfix": ") ",
     "delete_cmd_prefix": "rm(",
     "library": "var_list.r",
     "varRefreshCmd": "cat(var_dic_list()) "
    }
   },
   "types_to_exclude": [
    "module",
    "function",
    "builtin_function_or_method",
    "instance",
    "_Feature"
   ],
   "window_display": false
  }
 },
 "nbformat": 4,
 "nbformat_minor": 4
}
