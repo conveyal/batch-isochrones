{
 "cells": [
  {
   "cell_type": "markdown",
   "metadata": {},
   "source": [
    "# Batch Isochrones\n",
    "\n",
    "Produces a .geojson file for each origin. Each file has features for default travel time cutoffs (0 minutes to 90 minutes, at 15 minute increments) and percentiles.\n",
    "\n",
    "Requires a Conveyal token (e.g. 'bearer 1234abcd...') saved at config/.auth, and an appropriate profile request template copied from Advanced Settings in the analysis panel of the Conveyal Analysis user interface."
   ]
  },
  {
   "cell_type": "markdown",
   "metadata": {},
   "source": [
    "## Setup"
   ]
  },
  {
   "cell_type": "code",
   "execution_count": 1,
   "metadata": {},
   "outputs": [],
   "source": [
    "import requests\n",
    "import numpy\n",
    "import json\n",
    "import matplotlib.pyplot as plt\n",
    "import geojsoncontour\n",
    "import geojson\n",
    "import rasterio\n",
    "import shapely_geojson\n",
    "from shapely.geometry import mapping, shape, MultiPolygon\n",
    "\n",
    "url = 'https://api.conveyal.com/api/analysis'\n",
    "\n",
    "# Authorization header copied from DevTools Network request\n",
    "token = open('config/.auth').readline().strip()\n",
    "\n",
    "# Copy from Advanced Settings in the analysis panel\n",
    "# Ensure that the scenario, variantNumber, and other parameters are set correctly\n",
    "profileRequest = json.load(open('config/profile-requests/london-demo.json'))\n",
    "\n",
    "# Load from a JSON array with properties \"name\", \"fromLat\", and \"fromLon\" for each point\n",
    "origins = json.load(open('config/origins.json'))\n",
    "\n",
    "isochroneIntervals = range(0, 105, 15)\n",
    "\n",
    "percentileValues = [5, 25, 50, 75, 95]\n",
    "\n",
    "headers = {\n",
    "    'Authorization': token,\n",
    "    'Accept': 'image/tiff'\n",
    "}"
   ]
  },
  {
   "cell_type": "markdown",
   "metadata": {},
   "source": [
    "## Download and processing"
   ]
  },
  {
   "cell_type": "code",
   "execution_count": 2,
   "metadata": {},
   "outputs": [
    {
     "name": "stdout",
     "output_type": "stream",
     "text": [
      "Processing Palestra\n"
     ]
    },
    {
     "name": "stderr",
     "output_type": "stream",
     "text": [
      "/home/ansons/.local/lib/python3.5/site-packages/urllib3/connectionpool.py:851: InsecureRequestWarning: Unverified HTTPS request is being made. Adding certificate verification is strongly advised. See: https://urllib3.readthedocs.io/en/latest/advanced-usage.html#ssl-warnings\n",
      "  InsecureRequestWarning)\n"
     ]
    },
    {
     "name": "stdout",
     "output_type": "stream",
     "text": [
      "Processing St James Park\n"
     ]
    },
    {
     "data": {
      "image/png": "[encoded data removed]",
      "text/plain": [
       "<Figure size 432x288 with 1 Axes>"
      ]
     },
     "metadata": {
      "needs_background": "light"
     },
     "output_type": "display_data"
    },
    {
     "data": {
      "image/png": "[encoded data removed]",
      "text/plain": [
       "<Figure size 432x288 with 1 Axes>"
      ]
     },
     "metadata": {
      "needs_background": "light"
     },
     "output_type": "display_data"
    }
   ],
   "source": [
    "# Loop over origins\n",
    "for origin in origins:\n",
    "    originName = origin['name']\n",
    "    profileRequest['fromLat'] = origin['fromLat']\n",
    "    profileRequest['fromLon'] = origin['fromLon']\n",
    "    \n",
    "    print('Processing ' + originName)\n",
    "    \n",
    "    r = requests.post(url, headers = headers, json = profileRequest, verify = False)\n",
    "    \n",
    "    if r.status_code == 202:\n",
    "        print('Routing engine starting, try again in a few minutes.')\n",
    "        \n",
    "    elif r.status_code != 200:\n",
    "        print('Error! ' + r.text)\n",
    "        \n",
    "    else:\n",
    "        # Save response from Conveyal Analysis to a local .tiff file\n",
    "        with open(originName + '.tiff', 'wb') as f:\n",
    "            for chunk in r.iter_content(chunk_size=128):\n",
    "                f.write(chunk)\n",
    "                \n",
    "        tiff = rasterio.open(originName + '.tiff')\n",
    "\n",
    "        crsEpsg = tiff.crs.to_string()\n",
    "\n",
    "        # Set up tiff processing        \n",
    "        latRange = numpy.arange(tiff.bounds.top, tiff.bounds.bottom, -tiff.res[1])\n",
    "        lonRange = numpy.arange(tiff.bounds.left, tiff.bounds.right, tiff.res[0])\n",
    "\n",
    "        isochroneJson = {\n",
    "            'crs': {'type':'name','properties':{'name': crsEpsg}},\n",
    "            'type': 'FeatureCollection',\n",
    "            'features': []\n",
    "        }    \n",
    "        \n",
    "        figure = plt.figure().add_subplot(111)\n",
    "        \n",
    "        # Loop over percentile values\n",
    "        for percentileIndex in range(0, len(percentileValues)):\n",
    "\n",
    "            values =  tiff.read(percentileIndex + 1) # GDAL 1-based indexing\n",
    "            values[values == 0] = 120\n",
    "\n",
    "            contourf = figure.contourf(lonRange, latRange, values, levels = isochroneIntervals)\n",
    "            contours = geojsoncontour.contourf_to_geojson(contourf = contourf, ndigits = 3)\n",
    "            contourJson = json.loads(contours)\n",
    "            \n",
    "            # Loop over the travel time cutoff values (one set of features per element of isochrone intervals)\n",
    "            for i in range(0, len(contourJson['features'])):\n",
    "\n",
    "                feature = contourJson['features'][i]\n",
    "                cutoff = list(isochroneIntervals)[i+1]\n",
    "\n",
    "                isochroneFeature = {\n",
    "                    'type': 'Feature',\n",
    "                    'properties': {\n",
    "                        'minutes': cutoff,\n",
    "                        'percentile': percentileValues[percentileIndex]\n",
    "                    }\n",
    "                }\n",
    "\n",
    "                # The next two steps remove shapes with no coordinates, zero-area artifacts, and self-intersections\n",
    "                nextBand = shape({\n",
    "                    'type': 'MultiPolygon', \n",
    "                    'coordinates': list(filter(lambda coords: (len(coords) > 0), feature['geometry']['coordinates']))\n",
    "                })\n",
    "\n",
    "                nextBand = MultiPolygon(list(filter(lambda poly: (poly.area > 0), nextBand))).buffer(0)\n",
    "\n",
    "                # countourf returns the area between the requested intervals (e.g. a bandreachable in \n",
    "                # between 15 and 30 minutes). Union this band with the previous ones to show the cumulative\n",
    "                # area reachable.\n",
    "                if i > 0:\n",
    "                    nextBand = nextBand.union(shape(isochroneJson['features'][i - 1]['geometry']))\n",
    "\n",
    "                isochroneFeature['geometry'] = json.loads(shapely_geojson.dumps(nextBand))\n",
    "                isochroneJson['features'].append(isochroneFeature)\n",
    "\n",
    "            # Write out the various travel time cutoff and percentile values to a single file per-origin.\n",
    "            with open(originName + '.geojson', 'w') as f:\n",
    "                json.dump(isochroneJson, f)"
   ]
  }
 ],
 "metadata": {
  "kernelspec": {
   "display_name": "Python 3",
   "language": "python",
   "name": "python3"
  },
  "language_info": {
   "codemirror_mode": {
    "name": "ipython",
    "version": 3
   },
   "file_extension": ".py",
   "mimetype": "text/x-python",
   "name": "python",
   "nbconvert_exporter": "python",
   "pygments_lexer": "ipython3",
   "version": "3.5.2"
  },
  "toc": {
   "base_numbering": 1,
   "nav_menu": {},
   "number_sections": true,
   "sideBar": true,
   "skip_h1_title": false,
   "title_cell": "Table of Contents",
   "title_sidebar": "Contents",
   "toc_cell": false,
   "toc_position": {},
   "toc_section_display": true,
   "toc_window_display": false
  },
  "varInspector": {
   "cols": {
    "lenName": 16,
    "lenType": 16,
    "lenVar": 40
   },
   "kernels_config": {
    "python": {
     "delete_cmd_postfix": "",
     "delete_cmd_prefix": "del ",
     "library": "var_list.py",
     "varRefreshCmd": "print(var_dic_list())"
    },
    "r": {
     "delete_cmd_postfix": ") ",
     "delete_cmd_prefix": "rm(",
     "library": "var_list.r",
     "varRefreshCmd": "cat(var_dic_list()) "
    }
   },
   "types_to_exclude": [
    "module",
    "function",
    "builtin_function_or_method",
    "instance",
    "_Feature"
   ],
   "window_display": false
  }
 },
 "nbformat": 4,
 "nbformat_minor": 2
}
